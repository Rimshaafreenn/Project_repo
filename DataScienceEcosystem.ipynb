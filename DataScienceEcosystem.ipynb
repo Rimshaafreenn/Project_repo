{
 "cells": [
  {
   "cell_type": "markdown",
   "id": "a2620976",
   "metadata": {},
   "source": [
    "# Data Science Tools and Ecosystem"
   ]
  },
  {
   "cell_type": "markdown",
   "id": "298b7221",
   "metadata": {},
   "source": [
    "In this notebook, Data Science Tools and Ecosystem are summarized."
   ]
  },
  {
   "cell_type": "markdown",
   "id": "c185382f",
   "metadata": {},
   "source": [
    "**Objectives:**\n",
    "* List popular languages for Data Science\n",
    "* List commonly used libraries by Data Scientists\n",
    "* Popular Data Science Tools\n",
    "* Some Arithematic Expressions"
   ]
  },
  {
   "cell_type": "markdown",
   "id": "b03b649c",
   "metadata": {},
   "source": [
    "###### Some of the popular languages that Data scientists use are:"
   ]
  },
  {
   "cell_type": "markdown",
   "id": "605a469a",
   "metadata": {},
   "source": [
    "1. Python \n",
    "2. R\n",
    "3. SQL\n",
    "4. Julia\n",
    "5. Java\n",
    "6. Scala\n",
    "7. JavaScript"
   ]
  },
  {
   "cell_type": "markdown",
   "id": "bbfef867",
   "metadata": {},
   "source": [
    "###### Some of the commonly used libraries used by data scientists include: "
   ]
  },
  {
   "attachments": {},
   "cell_type": "markdown",
   "id": "92e311b1",
   "metadata": {},
   "source": [
    "1. Matplotlib\n",
    "2. NumPy\n",
    "3. SciPy\n",
    "4. Pandas\n",
    "5. PyTorch\n",
    "6. Sci-kit learn"
   ]
  },
  {
   "cell_type": "markdown",
   "id": "286d2278",
   "metadata": {},
   "source": [
    "| Data Science Tools |\n",
    "| :----------------: |\n",
    "| Apache Spark |\n",
    "| MATLAB |\n",
    "| TenserFlow |\n",
    "| Apache Hadoop |\n",
    "| MongoDB |\n",
    "| MySQL |\n",
    "| IBM db2 |\n",
    "| PowerBi |\n",
    "| Git |\n",
    "| GitHub |\n",
    "| Jupyter Notebook|\n",
    "| RStudio |\n"
   ]
  },
  {
   "cell_type": "markdown",
   "id": "668e4ed3",
   "metadata": {},
   "source": [
    "### Below are few examples of evaluating arithematic expressions in Python"
   ]
  },
  {
   "cell_type": "code",
   "execution_count": 3,
   "id": "4761f4e5",
   "metadata": {},
   "outputs": [
    {
     "data": {
      "text/plain": [
       "17"
      ]
     },
     "execution_count": 3,
     "metadata": {},
     "output_type": "execute_result"
    }
   ],
   "source": [
    "# This is simple arithematic expresiion to multiply then add integers\n",
    "(3*4)+5"
   ]
  },
  {
   "cell_type": "code",
   "execution_count": 4,
   "id": "485d90d7",
   "metadata": {},
   "outputs": [
    {
     "data": {
      "text/plain": [
       "3.3333333333333335"
      ]
     },
     "execution_count": 4,
     "metadata": {},
     "output_type": "execute_result"
    }
   ],
   "source": [
    "# This will convert 200 minutes to hours by dividing by 60\n",
    "200/60"
   ]
  },
  {
   "cell_type": "markdown",
   "id": "c0b07715",
   "metadata": {},
   "source": [
    "## Author\n",
    "---\n",
    "Rimsha Afreen"
   ]
  },
  {
   "cell_type": "code",
   "execution_count": null,
   "id": "6a09e341",
   "metadata": {},
   "outputs": [],
   "source": []
  }
 ],
 "metadata": {
  "kernelspec": {
   "display_name": "Python 3 (ipykernel)",
   "language": "python",
   "name": "python3"
  },
  "language_info": {
   "codemirror_mode": {
    "name": "ipython",
    "version": 3
   },
   "file_extension": ".py",
   "mimetype": "text/x-python",
   "name": "python",
   "nbconvert_exporter": "python",
   "pygments_lexer": "ipython3",
   "version": "3.10.9"
  }
 },
 "nbformat": 4,
 "nbformat_minor": 5
}
